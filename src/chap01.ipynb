{
 "cells": [
  {
   "cell_type": "markdown",
   "id": "eba1bd6c",
   "metadata": {},
   "source": [
    "# chap01\n",
    "## python 기본 문법\n",
    "### - 출력문"
   ]
  },
  {
   "cell_type": "code",
   "execution_count": 3,
   "id": "c0d23b01",
   "metadata": {},
   "outputs": [
    {
     "name": "stdout",
     "output_type": "stream",
     "text": [
      "Hello, Python!!!\n"
     ]
    }
   ],
   "source": [
    "print(\"Hello, Python!!!\") # 출력 명령문"
   ]
  },
  {
   "cell_type": "code",
   "execution_count": 6,
   "id": "321dcab9",
   "metadata": {},
   "outputs": [
    {
     "name": "stdout",
     "output_type": "stream",
     "text": [
      "Hello, Python!!!Happy Python\n",
      "Hello, Python!!! Happy Python\n"
     ]
    }
   ],
   "source": [
    "print(\"Hello, Python!!!\" + \"Happy Python\")\n",
    "print(\"Hello, Python!!!\" , \"Happy Python\")"
   ]
  },
  {
   "cell_type": "markdown",
   "id": "69c901bf",
   "metadata": {},
   "source": [
    "### - 연산기능(+ , - , * ,  /)"
   ]
  },
  {
   "cell_type": "code",
   "execution_count": 7,
   "id": "11df8a14",
   "metadata": {},
   "outputs": [
    {
     "data": {
      "text/plain": [
       "5"
      ]
     },
     "execution_count": 7,
     "metadata": {},
     "output_type": "execute_result"
    }
   ],
   "source": [
    "3+2"
   ]
  },
  {
   "cell_type": "code",
   "execution_count": 9,
   "id": "ea4bb8f3",
   "metadata": {},
   "outputs": [
    {
     "name": "stdout",
     "output_type": "stream",
     "text": [
      "3.14\n",
      "3.14\n"
     ]
    }
   ],
   "source": [
    "print(3.14)\n",
    "print(\"3.14\")"
   ]
  },
  {
   "cell_type": "code",
   "execution_count": 11,
   "id": "e77525a2",
   "metadata": {},
   "outputs": [
    {
     "name": "stdout",
     "output_type": "stream",
     "text": [
      "1 3.14 안녕하세요!!!\n"
     ]
    }
   ],
   "source": [
    "print(1, 3.14, \"안녕하세요!!!\")"
   ]
  },
  {
   "cell_type": "markdown",
   "id": "ed2af931",
   "metadata": {},
   "source": [
    "### - 변수 (데이터를 보관하기위해 할당된 메모리 공간 )"
   ]
  },
  {
   "cell_type": "code",
   "execution_count": 12,
   "id": "33dcad97",
   "metadata": {},
   "outputs": [],
   "source": [
    "# 자바 : int , double, char, boolean, String\n",
    "# Integer a = new Integer(5);\n",
    "# Integer a = 5;\n",
    "a = 5\n",
    "b = 10"
   ]
  },
  {
   "cell_type": "code",
   "execution_count": 14,
   "id": "07aa25a4",
   "metadata": {},
   "outputs": [
    {
     "data": {
      "text/plain": [
       "15"
      ]
     },
     "execution_count": 14,
     "metadata": {},
     "output_type": "execute_result"
    }
   ],
   "source": [
    "a + b"
   ]
  },
  {
   "cell_type": "code",
   "execution_count": 18,
   "id": "3f1ba948",
   "metadata": {},
   "outputs": [
    {
     "name": "stdout",
     "output_type": "stream",
     "text": [
      "10 20\n"
     ]
    }
   ],
   "source": [
    "# int num1 = 10, num2 = 20;\n",
    "x = 10\n",
    "y = 20\n",
    "print(x, y)"
   ]
  },
  {
   "cell_type": "code",
   "execution_count": 19,
   "id": "0c639bf2",
   "metadata": {},
   "outputs": [
    {
     "name": "stdout",
     "output_type": "stream",
     "text": [
      "365 272\n"
     ]
    }
   ],
   "source": [
    "x, y = 365, 272\n",
    "print(x,y)"
   ]
  },
  {
   "cell_type": "code",
   "execution_count": 20,
   "id": "4310b09b",
   "metadata": {},
   "outputs": [
    {
     "name": "stdout",
     "output_type": "stream",
     "text": [
      "272 365\n"
     ]
    }
   ],
   "source": [
    "x, y = y, x\n",
    "print(x,y)"
   ]
  }
 ],
 "metadata": {
  "kernelspec": {
   "display_name": "Python [conda env:tf_cpu] *",
   "language": "python",
   "name": "conda-env-tf_cpu-py"
  },
  "language_info": {
   "codemirror_mode": {
    "name": "ipython",
    "version": 3
   },
   "file_extension": ".py",
   "mimetype": "text/x-python",
   "name": "python",
   "nbconvert_exporter": "python",
   "pygments_lexer": "ipython3",
   "version": "3.7.13"
  }
 },
 "nbformat": 4,
 "nbformat_minor": 5
}
