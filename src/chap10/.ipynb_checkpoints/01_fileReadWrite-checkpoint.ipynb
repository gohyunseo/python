{
 "cells": [
  {
   "cell_type": "markdown",
   "id": "dd1a2fc3",
   "metadata": {},
   "source": [
    "# 파일 입출력"
   ]
  },
  {
   "cell_type": "code",
   "execution_count": 2,
   "id": "906f380f",
   "metadata": {},
   "outputs": [],
   "source": [
    "# file에 write 하기.\n",
    "\n",
    "file = open('test.txt','wt')\n",
    "file.write(\"hello\")\n",
    "file.close()\n"
   ]
  },
  {
   "cell_type": "code",
   "execution_count": 5,
   "id": "bd400661",
   "metadata": {},
   "outputs": [
    {
     "name": "stdout",
     "output_type": "stream",
     "text": [
      "hello\n"
     ]
    }
   ],
   "source": [
    "# file에서 데이터 읽어오기\n",
    "\n",
    "file = open('test.txt','rt')  # rt 는 default값으로 지정해주지 않아도 된다.\n",
    "str = file.read()\n",
    "print(str)\n",
    "file.close()"
   ]
  },
  {
   "cell_type": "code",
   "execution_count": null,
   "id": "aeace885",
   "metadata": {},
   "outputs": [],
   "source": []
  }
 ],
 "metadata": {
  "kernelspec": {
   "display_name": "Python [conda env:tf_cpu] *",
   "language": "python",
   "name": "conda-env-tf_cpu-py"
  },
  "language_info": {
   "codemirror_mode": {
    "name": "ipython",
    "version": 3
   },
   "file_extension": ".py",
   "mimetype": "text/x-python",
   "name": "python",
   "nbconvert_exporter": "python",
   "pygments_lexer": "ipython3",
   "version": "3.7.13"
  }
 },
 "nbformat": 4,
 "nbformat_minor": 5
}
