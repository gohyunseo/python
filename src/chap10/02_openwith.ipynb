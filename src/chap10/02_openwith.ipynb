{
 "cells": [
  {
   "cell_type": "code",
   "execution_count": 1,
   "id": "35f0fb8f",
   "metadata": {},
   "outputs": [],
   "source": [
    "# file = open('test.txt', 'wt')\n",
    "\n",
    "with open('test.txt','w+t') as file:\n",
    "    file.write(\"python\")"
   ]
  },
  {
   "cell_type": "code",
   "execution_count": 2,
   "id": "594d2b53",
   "metadata": {},
   "outputs": [],
   "source": [
    "with open('test.txt','a+t') as file:\n",
    "    file.write(\", world\")"
   ]
  },
  {
   "cell_type": "code",
   "execution_count": 3,
   "id": "dc526c1e",
   "metadata": {},
   "outputs": [
    {
     "name": "stdout",
     "output_type": "stream",
     "text": [
      "python, world\n"
     ]
    }
   ],
   "source": [
    "with open('test.txt', 'r+t') as file:\n",
    "    str = file.read()\n",
    "    print(str)\n",
    "    "
   ]
  },
  {
   "cell_type": "markdown",
   "id": "0596fd89",
   "metadata": {},
   "source": [
    "### 텍스트 파일 읽기 / 쓰기\n",
    "#### 1. 문자열을 담은 리스트를 파일에 쓰는 writelines() 메서드"
   ]
  },
  {
   "cell_type": "code",
   "execution_count": 4,
   "id": "0a875601",
   "metadata": {},
   "outputs": [],
   "source": [
    "lines = [\"we'll find a way we always have - Interstellar\\n\",\n",
    "\"I'll find you and I'll kill you - Taken\\n\",\n",
    "\"I'll be back - Terminator 2\\n\"]"
   ]
  },
  {
   "cell_type": "code",
   "execution_count": 5,
   "id": "48a6b7ec",
   "metadata": {},
   "outputs": [],
   "source": [
    "with open('movie_quotes.txt', 'w') as file:\n",
    "    for line in lines:\n",
    "        file.write(line)\n",
    "    "
   ]
  },
  {
   "cell_type": "code",
   "execution_count": 6,
   "id": "68eace59",
   "metadata": {},
   "outputs": [],
   "source": [
    "with open('movie_quotes2.txt', 'w') as file:\n",
    "    file.writelines(lines)\n",
    "    "
   ]
  },
  {
   "cell_type": "markdown",
   "id": "55bfba8e",
   "metadata": {},
   "source": [
    "### 텍스트 파일 읽기 / 쓰기\n",
    "#### 2. 줄 단위로 텍스트를 읽는 readline() & readlines() 메서드"
   ]
  },
  {
   "cell_type": "code",
   "execution_count": 7,
   "id": "1d4139b3",
   "metadata": {},
   "outputs": [
    {
     "name": "stdout",
     "output_type": "stream",
     "text": [
      "we'll find a way we always have - Interstellar\n",
      "I'll find you and I'll kill you - Taken\n",
      "I'll be back - Terminator 2\n"
     ]
    }
   ],
   "source": [
    "with open('movie_quotes.txt', 'r') as file:\n",
    "    line = file.readline()\n",
    "    \n",
    "    while line != '':\n",
    "        print(line, end='')\n",
    "        line = file.readline()\n",
    "\n",
    "    "
   ]
  },
  {
   "cell_type": "code",
   "execution_count": 9,
   "id": "0ab1f064",
   "metadata": {},
   "outputs": [
    {
     "name": "stdout",
     "output_type": "stream",
     "text": [
      "we'll find a way we always have - Interstellar\n",
      "I'll find you and I'll kill you - Taken\n",
      "I'll be back - Terminator 2\n"
     ]
    }
   ],
   "source": [
    "with open('movie_quotes.txt', 'r') as file:\n",
    "    lines = file.readlines()\n",
    "    line = ''\n",
    "    \n",
    "    for line in lines:\n",
    "        print(line, end='')"
   ]
  },
  {
   "cell_type": "code",
   "execution_count": null,
   "id": "8e756cdf",
   "metadata": {},
   "outputs": [],
   "source": []
  }
 ],
 "metadata": {
  "kernelspec": {
   "display_name": "Python [conda env:tf_cpu] *",
   "language": "python",
   "name": "conda-env-tf_cpu-py"
  },
  "language_info": {
   "codemirror_mode": {
    "name": "ipython",
    "version": 3
   },
   "file_extension": ".py",
   "mimetype": "text/x-python",
   "name": "python",
   "nbconvert_exporter": "python",
   "pygments_lexer": "ipython3",
   "version": "3.7.13"
  }
 },
 "nbformat": 4,
 "nbformat_minor": 5
}
