{
 "cells": [
  {
   "cell_type": "code",
   "execution_count": 1,
   "id": "4400e3d5",
   "metadata": {},
   "outputs": [
    {
     "data": {
      "text/plain": [
       "'\\ntry:\\n    문제가 없을 경우 실행할 코드\\nexcept:\\n    문제가 생겼을 때 실행 할 코드\\n'"
      ]
     },
     "execution_count": 1,
     "metadata": {},
     "output_type": "execute_result"
    }
   ],
   "source": [
    "## 파이썬의 예외 처리 구문1\n",
    "'''\n",
    "try:\n",
    "    문제가 없을 경우 실행할 코드\n",
    "except:\n",
    "    문제가 생겼을 때 실행 할 코드\n",
    "'''"
   ]
  },
  {
   "cell_type": "code",
   "execution_count": 2,
   "id": "a3a2fc22",
   "metadata": {},
   "outputs": [
    {
     "name": "stdout",
     "output_type": "stream",
     "text": [
      "예외가 발생했습니다.\n",
      "프로그램 종료.\n"
     ]
    }
   ],
   "source": [
    "try:\n",
    "    print(1 / 0)\n",
    "except:\n",
    "    print(\"예외가 발생했습니다.\")\n",
    "    \n",
    "print(\"프로그램 종료.\")\n",
    "    "
   ]
  },
  {
   "cell_type": "code",
   "execution_count": 3,
   "id": "42da3e72",
   "metadata": {},
   "outputs": [
    {
     "data": {
      "text/plain": [
       "'\\ntry:\\n    문제가 없을 경우 실행할 코드\\nexcept 예외형식1:\\n    문제가 생겼을 때 실행 할 코드\\nexcept 예외형식2:\\n    문제가 생겼을 때 실행 할 코드    \\n'"
      ]
     },
     "execution_count": 3,
     "metadata": {},
     "output_type": "execute_result"
    }
   ],
   "source": [
    "## 파이썬의 예외 처리 구문2\n",
    "'''\n",
    "try:\n",
    "    문제가 없을 경우 실행할 코드\n",
    "except 예외형식1 as e:\n",
    "    문제가 생겼을 때 실행 할 코드\n",
    "except 예외형식2 as e:\n",
    "    문제가 생겼을 때 실행 할 코드    \n",
    "'''"
   ]
  },
  {
   "cell_type": "code",
   "execution_count": 9,
   "id": "d5686bc2",
   "metadata": {},
   "outputs": [
    {
     "name": "stdout",
     "output_type": "stream",
     "text": [
      "첨자(인덱스)를 입력하세요 : \n",
      "5\n",
      "잘못된 첨자입니다(list index out of range).\n",
      "프로그램 종료.\n"
     ]
    }
   ],
   "source": [
    "my_list = [1, 2, 3]\n",
    "\n",
    "# my_list[4]\n",
    "\n",
    "try: \n",
    "    print(\"첨자(인덱스)를 입력하세요 : \")\n",
    "    index = int(input())\n",
    "    print(my_list[index] / 0)\n",
    "except IndexError as e:\n",
    "    print(\"잘못된 첨자입니다({0}).\".format(e))\n",
    "except ValueError as e:\n",
    "    print(\"잘못된 값입니다({0}).\".format(e))\n",
    "except ZeroDivisionError as e:\n",
    "    print(\"0으로 나눌 수 없습니다.({0}).\".format(e))\n",
    "    \n",
    "print(\"프로그램 종료.\")"
   ]
  },
  {
   "cell_type": "code",
   "execution_count": 10,
   "id": "1ba4def2",
   "metadata": {},
   "outputs": [
    {
     "data": {
      "text/plain": [
       "'\\ntry:\\n    문제가 없을 경우 실행할 코드\\nexcept 예외형식1 as e:\\n    문제가 생겼을 때 실행 할 코드\\nexcept 예외형식2 as e:\\n    문제가 생겼을 때 실행 할 코드    \\nelse:\\n\\n'"
      ]
     },
     "execution_count": 10,
     "metadata": {},
     "output_type": "execute_result"
    }
   ],
   "source": [
    "## 파이썬의 예외 처리 구문3\n",
    "'''\n",
    "try:\n",
    "    문제가 없을 경우 실행할 코드\n",
    "except 예외형식1 as e:\n",
    "    문제가 생겼을 때 실행 할 코드\n",
    "except 예외형식2 as e:\n",
    "    문제가 생겼을 때 실행 할 코드    \n",
    "else:\n",
    "    except 절을 만나지 않았을 경우 실행하는 코드 블럭\n",
    "\n",
    "'''"
   ]
  },
  {
   "cell_type": "code",
   "execution_count": 11,
   "id": "35c8c7b1",
   "metadata": {},
   "outputs": [
    {
     "name": "stdout",
     "output_type": "stream",
     "text": [
      "첨자(인덱스)를 입력하세요 : \n",
      "0\n",
      "my_list[0]:1\n",
      "리스트의 요소 출력에 성공.\n",
      "프로그램 종료.\n"
     ]
    }
   ],
   "source": [
    "my_list = [1, 2, 3]\n",
    "\n",
    "# my_list[4]\n",
    "\n",
    "try: \n",
    "    print(\"첨자(인덱스)를 입력하세요 : \")\n",
    "    index = int(input())\n",
    "    print(\"my_list[{0}]:{1}\".format(index, my_list[index]))\n",
    "except Exception as e:\n",
    "    print(\"예외가 발생했습니다({0}).\".format(e))\n",
    "else:\n",
    "    print(\"리스트의 요소 출력에 성공.\")\n",
    "    \n",
    "print(\"프로그램 종료.\")"
   ]
  },
  {
   "cell_type": "code",
   "execution_count": 12,
   "id": "fcbcb384",
   "metadata": {},
   "outputs": [
    {
     "data": {
      "text/plain": [
       "'\\ntry:\\n    문제가 없을 경우 실행할 코드\\nexcept 예외형식1 as e:\\n    문제가 생겼을 때 실행 할 코드\\nexcept 예외형식2 as e:\\n    문제가 생겼을 때 실행 할 코드    \\nelse:\\n    except 절을 만나지 않았을 경우 실행하는 코드 블럭\\nfinally:\\n 코드 블럭\\n\\n'"
      ]
     },
     "execution_count": 12,
     "metadata": {},
     "output_type": "execute_result"
    }
   ],
   "source": [
    "## 파이썬의 예외 처리 구문4\n",
    "'''\n",
    "try:\n",
    "    문제가 없을 경우 실행할 코드\n",
    "except 예외형식1 as e:\n",
    "    문제가 생겼을 때 실행 할 코드\n",
    "except 예외형식2 as e:\n",
    "    문제가 생겼을 때 실행 할 코드    \n",
    "else:\n",
    "    except 절을 만나지 않았을 경우 실행하는 코드 블럭\n",
    "finally:\n",
    "    코드 블럭\n",
    " \n",
    " \n",
    "or\n",
    "\n",
    "try:\n",
    "    문제가 없을 경우 실행할 코드\n",
    "except:\n",
    "    문제가 생겼을 때 실행 할 코드\n",
    "finally:\n",
    "    코드 블럭\n",
    "\n",
    "'''\n"
   ]
  },
  {
   "cell_type": "code",
   "execution_count": 14,
   "id": "1628c9fb",
   "metadata": {},
   "outputs": [
    {
     "name": "stdout",
     "output_type": "stream",
     "text": [
      "인덱스를 입력하세요: \n",
      "12\n",
      "예외가 발생했습니다(list index out of range)\n",
      "어떤 일이 있어도 마무리합니다.\n"
     ]
    }
   ],
   "source": [
    "my_list = [1, 2, 3]\n",
    "\n",
    "try:   #명령문 작업\n",
    "    print(\"인덱스를 입력하세요: \")\n",
    "    index = int(input())\n",
    "    print(\"my_list[{0}]:{1}\".format(index, my_list[index]))\n",
    "except Exception as e:\n",
    "    print(\"예외가 발생했습니다({0})\".format(e))\n",
    "finally: # try문으로 들어오기만 하면 예외처리가 끝나기 직전에 무조건 수행\n",
    "    print(\"어떤 일이 있어도 마무리합니다.\")\n",
    "    \n",
    "print(\"프로그램 종료.\")"
   ]
  },
  {
   "cell_type": "markdown",
   "id": "09739d74",
   "metadata": {},
   "source": [
    "## - 강제 예외 발생\n"
   ]
  },
  {
   "cell_type": "code",
   "execution_count": 16,
   "id": "7573a7b6",
   "metadata": {},
   "outputs": [
    {
     "name": "stdout",
     "output_type": "stream",
     "text": [
      "일이삼\n"
     ]
    },
    {
     "ename": "Exception",
     "evalue": "입력 받은 문자열이 숫자로 구성되어 있지 않습니다.",
     "output_type": "error",
     "traceback": [
      "\u001b[1;31m---------------------------------------------------------------------------\u001b[0m",
      "\u001b[1;31mException\u001b[0m                                 Traceback (most recent call last)",
      "\u001b[1;32m~\\AppData\\Local\\Temp\\ipykernel_1364\\2984590308.py\u001b[0m in \u001b[0;36m<module>\u001b[1;34m\u001b[0m\n\u001b[0;32m      2\u001b[0m \u001b[1;33m\u001b[0m\u001b[0m\n\u001b[0;32m      3\u001b[0m \u001b[1;32mif\u001b[0m \u001b[0mtext\u001b[0m\u001b[1;33m.\u001b[0m\u001b[0misdigit\u001b[0m\u001b[1;33m(\u001b[0m\u001b[1;33m)\u001b[0m \u001b[1;33m==\u001b[0m  \u001b[1;32mFalse\u001b[0m\u001b[1;33m:\u001b[0m\u001b[1;33m\u001b[0m\u001b[1;33m\u001b[0m\u001b[0m\n\u001b[1;32m----> 4\u001b[1;33m     \u001b[1;32mraise\u001b[0m \u001b[0mException\u001b[0m\u001b[1;33m(\u001b[0m\u001b[1;34m\"입력 받은 문자열이 숫자로 구성되어 있지 않습니다.\"\u001b[0m\u001b[1;33m)\u001b[0m\u001b[1;33m\u001b[0m\u001b[1;33m\u001b[0m\u001b[0m\n\u001b[0m\u001b[0;32m      5\u001b[0m \u001b[1;33m\u001b[0m\u001b[0m\n\u001b[0;32m      6\u001b[0m \u001b[0mprint\u001b[0m\u001b[1;33m(\u001b[0m\u001b[1;34m\"프로그램 종료.\"\u001b[0m\u001b[1;33m)\u001b[0m\u001b[1;33m\u001b[0m\u001b[1;33m\u001b[0m\u001b[0m\n",
      "\u001b[1;31mException\u001b[0m: 입력 받은 문자열이 숫자로 구성되어 있지 않습니다."
     ]
    }
   ],
   "source": [
    "text = input()\n",
    "\n",
    "if text.isdigit() ==  False:\n",
    "    raise Exception(\"입력 받은 문자열이 숫자로 구성되어 있지 않습니다.\")\n",
    "    \n",
    "print(\"프로그램 종료.\")\n"
   ]
  },
  {
   "cell_type": "code",
   "execution_count": 17,
   "id": "2f7c141f",
   "metadata": {},
   "outputs": [
    {
     "name": "stdout",
     "output_type": "stream",
     "text": [
      "일이삼\n",
      "예외가 발생했습니다. : 입력 받은 문자열이 숫자로 구성되어 있지 않습니다.\n",
      "프로그램 종료.\n"
     ]
    }
   ],
   "source": [
    "try:\n",
    "    text = input()\n",
    "    \n",
    "    if text.isdigit() ==  False:\n",
    "        raise Exception(\"입력 받은 문자열이 숫자로 구성되어 있지 않습니다.\")\n",
    "        \n",
    "except Exception as e:\n",
    "    print(\"예외가 발생했습니다. : {0}\".format(e))\n",
    "    \n",
    "print(\"프로그램 종료.\")\n",
    "    "
   ]
  },
  {
   "cell_type": "code",
   "execution_count": 18,
   "id": "0e69e653",
   "metadata": {},
   "outputs": [],
   "source": [
    "def some_function():\n",
    "    print(\"1~10 사이의 수를 입력하세요: \")\n",
    "    num = int(input())\n",
    "    \n",
    "    if num < 1 or num > 10:\n",
    "        raise Exception(\"유효하지 않은 숫자입니다. : {0}\".format(num))\n",
    "        \n",
    "    else:\n",
    "        print(\"입력한 수는 {0}입니다.\".format(num))\n",
    "        "
   ]
  },
  {
   "cell_type": "code",
   "execution_count": 21,
   "id": "2e3784d8",
   "metadata": {},
   "outputs": [
    {
     "name": "stdout",
     "output_type": "stream",
     "text": [
      "1~10 사이의 수를 입력하세요: \n",
      "0\n",
      "예외가 발생했습니다. : 유효하지 않은 숫자입니다. : 0\n"
     ]
    }
   ],
   "source": [
    "try:\n",
    "    some_function()\n",
    "except Exception as e:\n",
    "    print(\"예외가 발생했습니다. : {0}\".format(e))\n",
    "    \n",
    "    "
   ]
  },
  {
   "cell_type": "code",
   "execution_count": 22,
   "id": "619c5500",
   "metadata": {},
   "outputs": [],
   "source": [
    "def some_function_caller():\n",
    "    try:\n",
    "        some_function()\n",
    "    except Exception as e:\n",
    "        print(\"(1) 예외가 발생했습니다. {0}\".format(e))\n",
    "        raise"
   ]
  },
  {
   "cell_type": "code",
   "execution_count": 24,
   "id": "04184f9d",
   "metadata": {},
   "outputs": [
    {
     "name": "stdout",
     "output_type": "stream",
     "text": [
      "1~10 사이의 수를 입력하세요: \n",
      "0\n",
      "(1) 예외가 발생했습니다. 유효하지 않은 숫자입니다. : 0\n",
      "(2) 예외가 발생했습니다. 유효하지 않은 숫자입니다. : 0\n"
     ]
    }
   ],
   "source": [
    "try:\n",
    "    some_function_caller()\n",
    "except Exception as e:\n",
    "    print(\"(2) 예외가 발생했습니다. {0}\".format(e))"
   ]
  },
  {
   "cell_type": "markdown",
   "id": "b771e468",
   "metadata": {},
   "source": [
    "## - 사용자 정의 예외 형식"
   ]
  },
  {
   "cell_type": "code",
   "execution_count": 25,
   "id": "51e36c95",
   "metadata": {},
   "outputs": [],
   "source": [
    "class MyException(Exception):\n",
    "    def __init__(self):\n",
    "        super().__init__(\"MyException이 발생했습니다.\")\n",
    "        "
   ]
  },
  {
   "cell_type": "code",
   "execution_count": 26,
   "id": "a71ac0de",
   "metadata": {},
   "outputs": [
    {
     "ename": "MyException",
     "evalue": "MyException이 발생했습니다.",
     "output_type": "error",
     "traceback": [
      "\u001b[1;31m---------------------------------------------------------------------------\u001b[0m",
      "\u001b[1;31mMyException\u001b[0m                               Traceback (most recent call last)",
      "\u001b[1;32m~\\AppData\\Local\\Temp\\ipykernel_1364\\1027351503.py\u001b[0m in \u001b[0;36m<module>\u001b[1;34m\u001b[0m\n\u001b[0;32m      2\u001b[0m \u001b[1;33m\u001b[0m\u001b[0m\n\u001b[0;32m      3\u001b[0m \u001b[1;32mif\u001b[0m \u001b[0meverythis_is_fine\u001b[0m \u001b[1;33m==\u001b[0m \u001b[1;32mFalse\u001b[0m\u001b[1;33m:\u001b[0m\u001b[1;33m\u001b[0m\u001b[1;33m\u001b[0m\u001b[0m\n\u001b[1;32m----> 4\u001b[1;33m     \u001b[1;32mraise\u001b[0m \u001b[0mMyException\u001b[0m\u001b[1;33m(\u001b[0m\u001b[1;33m)\u001b[0m\u001b[1;33m\u001b[0m\u001b[1;33m\u001b[0m\u001b[0m\n\u001b[0m",
      "\u001b[1;31mMyException\u001b[0m: MyException이 발생했습니다."
     ]
    }
   ],
   "source": [
    "everythis_is_fine = False\n",
    "\n",
    "if everythis_is_fine == False:\n",
    "    raise MyException()"
   ]
  },
  {
   "cell_type": "code",
   "execution_count": 36,
   "id": "4f894760",
   "metadata": {},
   "outputs": [],
   "source": [
    "class InvaildIntException(Exception):\n",
    "    def __init__(self, arg):\n",
    "        super().__init__(\"(정수가 아닙니다. : {0})\".format(arg))\n",
    "        \n",
    "def convert_to_integer(text):\n",
    "    if text.isdigit():\n",
    "        return int(text)\n",
    "    else:\n",
    "        raise InvaildIntException(text)\n"
   ]
  },
  {
   "cell_type": "code",
   "execution_count": 38,
   "id": "7a7ff998",
   "metadata": {},
   "outputs": [
    {
     "name": "stdout",
     "output_type": "stream",
     "text": [
      "(사용자 정의 예외)숫자를 입력하세요: \n",
      "77\n",
      "정수 형식으로 변환되었습니다. : 77(<class 'int'>)\n",
      "프로그램 종료.\n"
     ]
    }
   ],
   "source": [
    "try:\n",
    "    print(\"(사용자 정의 예외)숫자를 입력하세요: \")\n",
    "    text = input()\n",
    "    \n",
    "    number = convert_to_integer(text)\n",
    "\n",
    "except InvaildIntException as e:\n",
    "    print(\"예외가 발생했습니다. {0}\".format(e))\n",
    "    \n",
    "else:\n",
    "    print(\"정수 형식으로 변환되었습니다. : {0}({1})\".format(number, type(number)))\n",
    "    \n",
    "print(\"프로그램 종료.\")"
   ]
  },
  {
   "cell_type": "code",
   "execution_count": null,
   "id": "b4f8e972",
   "metadata": {},
   "outputs": [],
   "source": []
  }
 ],
 "metadata": {
  "kernelspec": {
   "display_name": "Python [conda env:tf_cpu] *",
   "language": "python",
   "name": "conda-env-tf_cpu-py"
  },
  "language_info": {
   "codemirror_mode": {
    "name": "ipython",
    "version": 3
   },
   "file_extension": ".py",
   "mimetype": "text/x-python",
   "name": "python",
   "nbconvert_exporter": "python",
   "pygments_lexer": "ipython3",
   "version": "3.7.13"
  }
 },
 "nbformat": 4,
 "nbformat_minor": 5
}
