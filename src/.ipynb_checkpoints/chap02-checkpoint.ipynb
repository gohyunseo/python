{
 "cells": [
  {
   "cell_type": "markdown",
   "id": "c0d70e30",
   "metadata": {},
   "source": [
    "# 변수명 규칙\n",
    "### - 문자와, 숫자, _가능. 단, 숫자로 시작할 수 없음.\n",
    "### - 대/소문자를 구별(NUM, num).\n",
    "### - 예약어(키워드) 사용 불가능."
   ]
  },
  {
   "cell_type": "code",
   "execution_count": 1,
   "id": "f5d13cf3",
   "metadata": {},
   "outputs": [
    {
     "name": "stdout",
     "output_type": "stream",
     "text": [
      "<class 'int'>\n",
      "<class 'str'>\n"
     ]
    },
    {
     "data": {
      "text/plain": [
       "int"
      ]
     },
     "execution_count": 1,
     "metadata": {},
     "output_type": "execute_result"
    }
   ],
   "source": [
    "# 변수(정수)\n",
    "a = 123456789\n",
    "b = \"홍길동\"\n",
    "a#print(a)\n",
    "b#print(b)\n",
    "\n",
    "print(type(a)) #'int' 정수\n",
    "print(type(b)) #'str' 문자열\n",
    "type(a)"
   ]
  },
  {
   "cell_type": "code",
   "execution_count": 2,
   "id": "c654ed95",
   "metadata": {},
   "outputs": [
    {
     "name": "stdout",
     "output_type": "stream",
     "text": [
      "<class 'float'>\n",
      "<class 'complex'>\n",
      "<class 'bool'>\n"
     ]
    }
   ],
   "source": [
    "print(type(3.14)) #'float' 실수는 float으로 표기\n",
    "print(type(5 + 3j)) #'complex' 복소수도 표현 가능\n",
    "print(type(True)) #'bool' boolean 표기 / 첫글자는 대문자 나머지는 소문자로 표기"
   ]
  },
  {
   "cell_type": "markdown",
   "id": "4482350f",
   "metadata": {},
   "source": [
    "## 연산자(+, -, * ,  / , %, //, **)"
   ]
  },
  {
   "cell_type": "code",
   "execution_count": 3,
   "id": "cf62fe70",
   "metadata": {},
   "outputs": [
    {
     "name": "stdout",
     "output_type": "stream",
     "text": [
      "7\n"
     ]
    }
   ],
   "source": [
    "a = 3 + 4\n",
    "print(a)"
   ]
  },
  {
   "cell_type": "code",
   "execution_count": 4,
   "id": "19ab5ead",
   "metadata": {},
   "outputs": [
    {
     "name": "stdout",
     "output_type": "stream",
     "text": [
      "-1\n"
     ]
    }
   ],
   "source": [
    "a= 3 - 4\n",
    "print(a)"
   ]
  },
  {
   "cell_type": "code",
   "execution_count": 5,
   "id": "d29e4914",
   "metadata": {},
   "outputs": [
    {
     "name": "stdout",
     "output_type": "stream",
     "text": [
      "12\n"
     ]
    }
   ],
   "source": [
    "a= 3 * 4\n",
    "print(a)"
   ]
  },
  {
   "cell_type": "code",
   "execution_count": 6,
   "id": "aa6a3094",
   "metadata": {},
   "outputs": [
    {
     "name": "stdout",
     "output_type": "stream",
     "text": [
      "0.75\n",
      "<class 'float'>\n"
     ]
    }
   ],
   "source": [
    "a= 3 / 4\n",
    "print(a)\n",
    "print(type(a))"
   ]
  },
  {
   "cell_type": "code",
   "execution_count": 7,
   "id": "c70a51df",
   "metadata": {},
   "outputs": [
    {
     "name": "stdout",
     "output_type": "stream",
     "text": [
      "3\n",
      "<class 'int'>\n"
     ]
    }
   ],
   "source": [
    "a= 3 % 4\n",
    "print(a)\n",
    "print(type(a))"
   ]
  },
  {
   "cell_type": "code",
   "execution_count": 8,
   "id": "e8ef2471",
   "metadata": {},
   "outputs": [
    {
     "name": "stdout",
     "output_type": "stream",
     "text": [
      "8\n",
      "<class 'int'>\n"
     ]
    }
   ],
   "source": [
    "a= 33 // 4  #몫 반환 연산자\n",
    "print(a)\n",
    "print(type(a))"
   ]
  },
  {
   "cell_type": "code",
   "execution_count": 10,
   "id": "89dc97ed",
   "metadata": {},
   "outputs": [
    {
     "name": "stdout",
     "output_type": "stream",
     "text": [
      "16\n"
     ]
    }
   ],
   "source": [
    "a = 2 ** 4  # 2^4\n",
    "print(a)"
   ]
  },
  {
   "cell_type": "code",
   "execution_count": 19,
   "id": "8035fe50",
   "metadata": {},
   "outputs": [
    {
     "name": "stdout",
     "output_type": "stream",
     "text": [
      "12345678901234567890123456789012345678901234567890123456789012345678901234567890\n"
     ]
    }
   ],
   "source": [
    " x = 12345678901234567890123456789012345678901234567890123456789012345678901234567890\n",
    "print(x)"
   ]
  },
  {
   "cell_type": "code",
   "execution_count": 21,
   "id": "3047cf01",
   "metadata": {},
   "outputs": [
    {
     "name": "stdout",
     "output_type": "stream",
     "text": [
      "0x9fb\n",
      "0xe\n"
     ]
    }
   ],
   "source": [
    "print(hex(2555))\n",
    "print(hex(14))"
   ]
  },
  {
   "cell_type": "code",
   "execution_count": 22,
   "id": "ae6b491b",
   "metadata": {},
   "outputs": [
    {
     "name": "stdout",
     "output_type": "stream",
     "text": [
      "10\n"
     ]
    }
   ],
   "source": [
    "a= 0b1010\n",
    "print(a)"
   ]
  },
  {
   "cell_type": "code",
   "execution_count": 24,
   "id": "fa317fee",
   "metadata": {},
   "outputs": [
    {
     "name": "stdout",
     "output_type": "stream",
     "text": [
      "0.10000000000000142\n"
     ]
    }
   ],
   "source": [
    "x = 43.2 - 43.1\n",
    "print(x)"
   ]
  },
  {
   "cell_type": "code",
   "execution_count": 27,
   "id": "2eb1bbd5",
   "metadata": {
    "scrolled": true
   },
   "outputs": [
    {
     "name": "stdout",
     "output_type": "stream",
     "text": [
      "\n",
      "국군은 국가의 안전보장과 국토방위의 신성한 의무를 수행함을 사명으로 하며, 그 정치적 중립성은 준수된다. 헌법재판소는 법관의 자격을 가진 9인의 재판관으로 구성하며, 재판관은 대통령이 임명한다.\n",
      "\n",
      "대통령의 선거에 관한 사항은 법률로 정한다. 모든 국민은 소급입법에 의하여 참정권의 제한을 받거나 재산권을 박탈당하지 아니한다. 국회는 정부의 동의없이 정부가 제출한 지출예산 각항의 금액을 증가하거나 새 비목을 설치할 수 없다.\n",
      "\n",
      "<class 'str'>\n"
     ]
    }
   ],
   "source": [
    "str= \"\"\"\n",
    "국군은 국가의 안전보장과 국토방위의 신성한 의무를 수행함을 사명으로 하며, 그 정치적 중립성은 준수된다. 헌법재판소는 법관의 자격을 가진 9인의 재판관으로 구성하며, 재판관은 대통령이 임명한다.\n",
    "\n",
    "대통령의 선거에 관한 사항은 법률로 정한다. 모든 국민은 소급입법에 의하여 참정권의 제한을 받거나 재산권을 박탈당하지 아니한다. 국회는 정부의 동의없이 정부가 제출한 지출예산 각항의 금액을 증가하거나 새 비목을 설치할 수 없다.\n",
    "\"\"\"\n",
    "print(str)\n",
    "print(type(str))"
   ]
  },
  {
   "cell_type": "code",
   "execution_count": 28,
   "id": "4c637cd8",
   "metadata": {},
   "outputs": [
    {
     "name": "stdout",
     "output_type": "stream",
     "text": [
      "5\n"
     ]
    }
   ],
   "source": [
    "int = 5\n",
    "print(int)"
   ]
  },
  {
   "cell_type": "code",
   "execution_count": 30,
   "id": "ce3a1219",
   "metadata": {},
   "outputs": [
    {
     "name": "stdout",
     "output_type": "stream",
     "text": [
      "Python\n",
      "Py thon\n",
      "Python\n"
     ]
    }
   ],
   "source": [
    "print(\"Py\" + \"thon\")\n",
    "print(\"Py\",\"thon\")\n",
    "print(\"Py\"\"thon\")"
   ]
  },
  {
   "cell_type": "code",
   "execution_count": 32,
   "id": "b2309bcd",
   "metadata": {},
   "outputs": [
    {
     "name": "stdout",
     "output_type": "stream",
     "text": [
      "Hello, World!!!\n"
     ]
    }
   ],
   "source": [
    "hello = \"Hello, \"\n",
    "world = \"World!!!\"\n",
    "helloWorld = hello+world\n",
    "print(helloWorld)"
   ]
  },
  {
   "cell_type": "code",
   "execution_count": 36,
   "id": "98c674b9",
   "metadata": {},
   "outputs": [
    {
     "name": "stdout",
     "output_type": "stream",
     "text": [
      "방가 방가 25\n"
     ]
    }
   ],
   "source": [
    "age = 25\n",
    "str = \"방가 방가\"\n",
    "print(str + age)  # error(문자열 + 문자열외 자료형의 + 연산을 허용하지 않음.)"
   ]
  },
  {
   "cell_type": "code",
   "execution_count": 38,
   "id": "8ecf2d5d",
   "metadata": {},
   "outputs": [
    {
     "name": "stdout",
     "output_type": "stream",
     "text": [
      "pythonpythonpython\n"
     ]
    }
   ],
   "source": [
    "print('python' * 3) #문자열 반복"
   ]
  },
  {
   "cell_type": "code",
   "execution_count": 40,
   "id": "ae0c0255",
   "metadata": {},
   "outputs": [
    {
     "name": "stdout",
     "output_type": "stream",
     "text": [
      "Good M\n",
      "Morning\n"
     ]
    }
   ],
   "source": [
    "s = 'Good Morning'\n",
    "print(s[0:6])\n",
    "print(s[5:12])"
   ]
  },
  {
   "cell_type": "code",
   "execution_count": 41,
   "id": "a758ab18",
   "metadata": {},
   "outputs": [
    {
     "name": "stdout",
     "output_type": "stream",
     "text": [
      "Good\n"
     ]
    }
   ],
   "source": [
    "a= s[:4] #a = s[0:4]\n",
    "print(a)"
   ]
  },
  {
   "cell_type": "code",
   "execution_count": 42,
   "id": "0c36a8bd",
   "metadata": {},
   "outputs": [
    {
     "name": "stdout",
     "output_type": "stream",
     "text": [
      "Morning\n"
     ]
    }
   ],
   "source": [
    "a= s[5:] # a=[5:끝까지]\n",
    "print(a)"
   ]
  },
  {
   "cell_type": "code",
   "execution_count": 43,
   "id": "57856a90",
   "metadata": {},
   "outputs": [
    {
     "name": "stdout",
     "output_type": "stream",
     "text": [
      "ing\n"
     ]
    }
   ],
   "source": [
    "a= s[-3:] # a=[뒤의 3자리부터 끝까지] 뒤로부터 카운터 시작(-1....) 출력 : 'ing'\n",
    "print(a)"
   ]
  },
  {
   "cell_type": "code",
   "execution_count": 45,
   "id": "522a516b",
   "metadata": {},
   "outputs": [
    {
     "name": "stdout",
     "output_type": "stream",
     "text": [
      "Go onn\n"
     ]
    }
   ],
   "source": [
    "a= s[::2] #  두칸씩 카운팅 ::숫자 숫자만큼 건너뛴다\n",
    "print(a)"
   ]
  },
  {
   "cell_type": "code",
   "execution_count": 50,
   "id": "03a56994",
   "metadata": {},
   "outputs": [
    {
     "name": "stdout",
     "output_type": "stream",
     "text": [
      "d\n"
     ]
    }
   ],
   "source": [
    "a=s[3] # 특정 인덱스 위치 문자 변환 0부터 인식\n",
    "print(a)"
   ]
  },
  {
   "cell_type": "code",
   "execution_count": 53,
   "id": "4550b038",
   "metadata": {},
   "outputs": [
    {
     "name": "stdout",
     "output_type": "stream",
     "text": [
      "True\n",
      "False\n",
      "True\n"
     ]
    }
   ],
   "source": [
    "print('M' in s) # s 안에 'M'이 있는지 확인/ 문자열도 가능, 값은 boolean으로 출력 true or false 대/소문자 구별\n",
    "print('a' in s)\n",
    "print('Good' in s)"
   ]
  },
  {
   "cell_type": "code",
   "execution_count": 54,
   "id": "f60f351f",
   "metadata": {},
   "outputs": [
    {
     "name": "stdout",
     "output_type": "stream",
     "text": [
      "12\n"
     ]
    }
   ],
   "source": [
    "print(len(s)) # 문자열의 길이 반환"
   ]
  },
  {
   "cell_type": "code",
   "execution_count": 1,
   "id": "afcb46c1",
   "metadata": {},
   "outputs": [
    {
     "data": {
      "text/plain": [
       "4"
      ]
     },
     "execution_count": 1,
     "metadata": {},
     "output_type": "execute_result"
    }
   ],
   "source": [
    "#str = 'how do you do. how do you do.'\n",
    "#str.count('do')\n",
    "\n",
    "'how do you do. how do you do.'.count('do')"
   ]
  },
  {
   "cell_type": "code",
   "execution_count": 3,
   "id": "eee53cba",
   "metadata": {},
   "outputs": [
    {
     "name": "stdout",
     "output_type": "stream",
     "text": [
      "1\n",
      "7\n"
     ]
    }
   ],
   "source": [
    "num1 = 3\n",
    "num2 = 5\n",
    "print(num1 & num2)\n",
    "print(num1 | num2)"
   ]
  },
  {
   "cell_type": "code",
   "execution_count": 22,
   "id": "ab29228c",
   "metadata": {},
   "outputs": [
    {
     "name": "stdout",
     "output_type": "stream",
     "text": [
      "10\n",
      "2\n",
      "-6\n",
      "4\n",
      "6\n",
      "7\n",
      "1\n"
     ]
    }
   ],
   "source": [
    "print(num2<<1)\n",
    "print(num2>>1)\n",
    "print(~num2)   \n",
    "print(~-num2)\n",
    "print(num1^num2)\n",
    "print(num1|num2)\n",
    "print(num1&num2)"
   ]
  },
  {
   "cell_type": "markdown",
   "id": "5846f51f",
   "metadata": {},
   "source": [
    "### - 형변환"
   ]
  },
  {
   "cell_type": "code",
   "execution_count": 26,
   "id": "8eb47e29",
   "metadata": {},
   "outputs": [
    {
     "name": "stdout",
     "output_type": "stream",
     "text": [
      "3.14\n",
      "<class 'float'>\n",
      "3.14\n",
      "<class 'str'>\n"
     ]
    }
   ],
   "source": [
    "print(3.14)\n",
    "print(type(3.14))  \n",
    "print(str(3.14))   #입력 자료형 float -> 출력자료형 str  / str함수는 자료형을 str으로 형변환시켜준다.\n",
    "print(type(str(3.14)))"
   ]
  },
  {
   "cell_type": "code",
   "execution_count": 30,
   "id": "4b1ee529",
   "metadata": {},
   "outputs": [
    {
     "name": "stdout",
     "output_type": "stream",
     "text": [
      "49\n",
      "<class 'str'>\n",
      "49\n",
      "<class 'int'>\n",
      "49.0\n",
      "<class 'float'>\n",
      "<class 'complex'>\n"
     ]
    }
   ],
   "source": [
    "print(str(49))\n",
    "print(type(str(49)))  #출력 자료형 str\n",
    "print(int(\"49\"))\n",
    "print(type(int(\"49\"))) #출력 자료형 int  / int 함수는 자료형을 int로 형변환 \n",
    "print(float(\"49\"))\n",
    "print(type(float(\"49\"))) #출력 자료형 float / float 함수는 자료형을 float로 형변환\n",
    "print(type(complex(\"1+2j\"))) #출력 자료형 complex / complex 함수는 자료형을 complex 형변환 (복소수)"
   ]
  }
 ],
 "metadata": {
  "kernelspec": {
   "display_name": "Python 3 (ipykernel)",
   "language": "python",
   "name": "python3"
  },
  "language_info": {
   "codemirror_mode": {
    "name": "ipython",
    "version": 3
   },
   "file_extension": ".py",
   "mimetype": "text/x-python",
   "name": "python",
   "nbconvert_exporter": "python",
   "pygments_lexer": "ipython3",
   "version": "3.7.13"
  }
 },
 "nbformat": 4,
 "nbformat_minor": 5
}
