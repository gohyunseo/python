{
 "cells": [
  {
   "cell_type": "markdown",
   "id": "749bc352",
   "metadata": {},
   "source": [
    "# 함수"
   ]
  },
  {
   "cell_type": "code",
   "execution_count": 1,
   "id": "31dcc517",
   "metadata": {},
   "outputs": [
    {
     "name": "stdout",
     "output_type": "stream",
     "text": [
      "Hello Python!!!!\n"
     ]
    }
   ],
   "source": [
    "# 함수 정의 방법     #함수,메서드 : 기능 정의  define\n",
    "\n",
    "def hello() :\n",
    "    print(\"Hello Python!!!!\")\n",
    "    \n",
    "hello() # 호출방법"
   ]
  },
  {
   "cell_type": "code",
   "execution_count": 4,
   "id": "5888cde0",
   "metadata": {},
   "outputs": [
    {
     "name": "stdout",
     "output_type": "stream",
     "text": [
      "10\n",
      "<function my_abs at 0x00000231AB758EE8>\n"
     ]
    }
   ],
   "source": [
    "#호출과 반환\n",
    "\n",
    "def my_abs(arg) :\n",
    "    if(arg < 0) :\n",
    "        result = arg * -1\n",
    "    else : \n",
    "        result = arg\n",
    "        \n",
    "    return result\n",
    "\n",
    "# my_abs() # error\n",
    "print(my_abs(-10))\n",
    "print(my_abs) # 할당된 주소값 반환"
   ]
  },
  {
   "cell_type": "code",
   "execution_count": 7,
   "id": "72fd62eb",
   "metadata": {},
   "outputs": [
    {
     "name": "stdout",
     "output_type": "stream",
     "text": [
      "안녕하세요.\n",
      "안녕하세요.\n",
      "안녕하세요.\n"
     ]
    }
   ],
   "source": [
    "# 인자 (argument) 이름의 올바른 예\n",
    "\n",
    "def print_string1(text, count) :\n",
    "    for i in range(count) :\n",
    "        print(text)\n",
    "        \n",
    "print_string1('안녕하세요.', 3)"
   ]
  },
  {
   "cell_type": "code",
   "execution_count": 11,
   "id": "ec3831d2",
   "metadata": {},
   "outputs": [
    {
     "name": "stdout",
     "output_type": "stream",
     "text": [
      "안녕하세요\n",
      "안녕하세요\n",
      "안녕하세요\n",
      "안녕하세요\n",
      "안녕하세요\n"
     ]
    }
   ],
   "source": [
    "# 기본값 인자(Default Argument Value)\n",
    "\n",
    "def print_string2(text, count=1) :\n",
    "    for i in range(count) :\n",
    "        print(text)\n",
    "        \n",
    "print_string2('안녕하세요', 5)"
   ]
  },
  {
   "cell_type": "code",
   "execution_count": 12,
   "id": "d38837f4",
   "metadata": {},
   "outputs": [
    {
     "name": "stdout",
     "output_type": "stream",
     "text": [
      "안녕하세요\n"
     ]
    }
   ],
   "source": [
    "print_string2('안녕하세요')"
   ]
  },
  {
   "cell_type": "markdown",
   "id": "a3efe262",
   "metadata": {},
   "source": [
    "## - 키워드 인자(Keyword Argument)\n",
    "    : 호출자가 매개변수의 이름을 일일이 지정해 데이터를  입력하는 것."
   ]
  },
  {
   "cell_type": "code",
   "execution_count": 15,
   "id": "c5be0edd",
   "metadata": {},
   "outputs": [],
   "source": [
    "def print_personnel(name, position='staff', nationality='Korea') :\n",
    "    print('name = {0}'.format(name))\n",
    "    print('position = {0}'.format(position))\n",
    "    print('nationality = {0}'.format(nationality))\n",
    "    \n"
   ]
  },
  {
   "cell_type": "code",
   "execution_count": 17,
   "id": "27f9c44a",
   "metadata": {},
   "outputs": [
    {
     "name": "stdout",
     "output_type": "stream",
     "text": [
      "name = 홍길동\n",
      "position = student\n",
      "nationality = American\n"
     ]
    }
   ],
   "source": [
    "print_personnel('홍길동','student', 'American')"
   ]
  },
  {
   "cell_type": "code",
   "execution_count": 18,
   "id": "963a092c",
   "metadata": {},
   "outputs": [
    {
     "name": "stdout",
     "output_type": "stream",
     "text": [
      "name = 홍길동\n",
      "position = student\n",
      "nationality = Korea\n"
     ]
    }
   ],
   "source": [
    "print_personnel('홍길동','student')"
   ]
  },
  {
   "cell_type": "code",
   "execution_count": 19,
   "id": "08e1194f",
   "metadata": {},
   "outputs": [
    {
     "name": "stdout",
     "output_type": "stream",
     "text": [
      "name = 홍길동\n",
      "position = staff\n",
      "nationality = Korea\n"
     ]
    }
   ],
   "source": [
    "print_personnel('홍길동')"
   ]
  },
  {
   "cell_type": "code",
   "execution_count": 20,
   "id": "afb5aac0",
   "metadata": {},
   "outputs": [
    {
     "name": "stdout",
     "output_type": "stream",
     "text": [
      "name = 강감찬\n",
      "position = staff\n",
      "nationality = Korea\n"
     ]
    }
   ],
   "source": [
    "print_personnel(name='강감찬')"
   ]
  },
  {
   "cell_type": "code",
   "execution_count": 21,
   "id": "323f9815",
   "metadata": {},
   "outputs": [
    {
     "ename": "TypeError",
     "evalue": "print_personnel() missing 1 required positional argument: 'name'",
     "output_type": "error",
     "traceback": [
      "\u001b[1;31m---------------------------------------------------------------------------\u001b[0m",
      "\u001b[1;31mTypeError\u001b[0m                                 Traceback (most recent call last)",
      "\u001b[1;32m~\\AppData\\Local\\Temp\\ipykernel_12260\\1677958355.py\u001b[0m in \u001b[0;36m<module>\u001b[1;34m\u001b[0m\n\u001b[1;32m----> 1\u001b[1;33m \u001b[0mprint_personnel\u001b[0m\u001b[1;33m(\u001b[0m\u001b[0mnationality\u001b[0m\u001b[1;33m=\u001b[0m\u001b[1;34m'Japan'\u001b[0m\u001b[1;33m)\u001b[0m\u001b[1;33m\u001b[0m\u001b[1;33m\u001b[0m\u001b[0m\n\u001b[0m",
      "\u001b[1;31mTypeError\u001b[0m: print_personnel() missing 1 required positional argument: 'name'"
     ]
    }
   ],
   "source": [
    "print_personnel(nationality='Japan') # error - name에 데이터 미전달."
   ]
  },
  {
   "cell_type": "code",
   "execution_count": 22,
   "id": "2e8fde38",
   "metadata": {},
   "outputs": [
    {
     "name": "stdout",
     "output_type": "stream",
     "text": [
      "name = 이순신\n",
      "position = staff\n",
      "nationality = Japan\n"
     ]
    }
   ],
   "source": [
    "print_personnel(name='이순신',nationality='Japan')"
   ]
  },
  {
   "cell_type": "code",
   "execution_count": 23,
   "id": "08373378",
   "metadata": {},
   "outputs": [
    {
     "name": "stdout",
     "output_type": "stream",
     "text": [
      "name = 박명수\n",
      "position = busuness\n",
      "nationality = Korea\n"
     ]
    }
   ],
   "source": [
    "print_personnel(position='busuness', name='박명수')"
   ]
  },
  {
   "cell_type": "code",
   "execution_count": 24,
   "id": "dc9c3e4f",
   "metadata": {},
   "outputs": [
    {
     "ename": "TypeError",
     "evalue": "print_personnel() got an unexpected keyword argument 'pos'",
     "output_type": "error",
     "traceback": [
      "\u001b[1;31m---------------------------------------------------------------------------\u001b[0m",
      "\u001b[1;31mTypeError\u001b[0m                                 Traceback (most recent call last)",
      "\u001b[1;32m~\\AppData\\Local\\Temp\\ipykernel_12260\\2851914167.py\u001b[0m in \u001b[0;36m<module>\u001b[1;34m\u001b[0m\n\u001b[1;32m----> 1\u001b[1;33m \u001b[0mprint_personnel\u001b[0m\u001b[1;33m(\u001b[0m\u001b[0mpos\u001b[0m\u001b[1;33m=\u001b[0m\u001b[1;34m'busuness'\u001b[0m\u001b[1;33m,\u001b[0m \u001b[0mname\u001b[0m\u001b[1;33m=\u001b[0m\u001b[1;34m'박명수'\u001b[0m\u001b[1;33m)\u001b[0m\u001b[1;33m\u001b[0m\u001b[1;33m\u001b[0m\u001b[0m\n\u001b[0m",
      "\u001b[1;31mTypeError\u001b[0m: print_personnel() got an unexpected keyword argument 'pos'"
     ]
    }
   ],
   "source": [
    "print_personnel(pos='busuness', name='박명수') #error"
   ]
  },
  {
   "cell_type": "markdown",
   "id": "fbcda173",
   "metadata": {},
   "source": [
    "## - 가변 매개 변수(Arbitrary Argument List)"
   ]
  },
  {
   "cell_type": "code",
   "execution_count": 26,
   "id": "246672fd",
   "metadata": {},
   "outputs": [
    {
     "name": "stdout",
     "output_type": "stream",
     "text": [
      "<class 'tuple'>\n",
      "아버지가방에들어가신다.\n"
     ]
    }
   ],
   "source": [
    "def merge_string(*text_list) :\n",
    "    print(type(text_list))\n",
    "    \n",
    "    result = ''\n",
    "    \n",
    "    for s in text_list :\n",
    "        result += s\n",
    "        \n",
    "    return result\n",
    "\n",
    "print(merge_string('아버지가','방에','들어가신다.')) "
   ]
  },
  {
   "cell_type": "code",
   "execution_count": 28,
   "id": "8f3ad94a",
   "metadata": {},
   "outputs": [
    {
     "name": "stdout",
     "output_type": "stream",
     "text": [
      "<class 'dict'>\n",
      "손흥민=축구\n",
      "류현진=야구\n",
      "서장훈=농구\n"
     ]
    }
   ],
   "source": [
    "def print_team(**players) :\n",
    "    print(type(players))  # <class 'dict'>\n",
    "    \n",
    "    for k in players.keys() :\n",
    "        print('{0}={1}'.format(k, players[k]))\n",
    "        \n",
    "print_team(손흥민='축구', 류현진='야구', 서장훈='농구')"
   ]
  },
  {
   "cell_type": "code",
   "execution_count": 29,
   "id": "dbdc1d8e",
   "metadata": {},
   "outputs": [],
   "source": [
    "def print_args1(argc, *argv) :\n",
    "    for i in range(argc) :\n",
    "        print(argv[i])"
   ]
  },
  {
   "cell_type": "code",
   "execution_count": 31,
   "id": "ec41c390",
   "metadata": {},
   "outputs": [
    {
     "name": "stdout",
     "output_type": "stream",
     "text": [
      "홍길동\n",
      "이순신\n",
      "강감찬\n"
     ]
    }
   ],
   "source": [
    "print_args1(3,'홍길동','이순신','강감찬')"
   ]
  },
  {
   "cell_type": "code",
   "execution_count": 33,
   "id": "86a01abf",
   "metadata": {
    "scrolled": true
   },
   "outputs": [
    {
     "ename": "SyntaxError",
     "evalue": "positional argument follows keyword argument (1044961399.py, line 1)",
     "output_type": "error",
     "traceback": [
      "\u001b[1;36m  File \u001b[1;32m\"C:\\Users\\keoy\\AppData\\Local\\Temp\\ipykernel_12260\\1044961399.py\"\u001b[1;36m, line \u001b[1;32m1\u001b[0m\n\u001b[1;33m    print_args1(argc=3,'홍길동','이순신','강감찬')\u001b[0m\n\u001b[1;37m                      ^\u001b[0m\n\u001b[1;31mSyntaxError\u001b[0m\u001b[1;31m:\u001b[0m positional argument follows keyword argument\n"
     ]
    }
   ],
   "source": [
    "print_args1(argc=3,'홍길동','이순신','강감찬')"
   ]
  },
  {
   "cell_type": "code",
   "execution_count": 34,
   "id": "e1183c7e",
   "metadata": {},
   "outputs": [],
   "source": [
    "def print_args2(*argv, argc) :\n",
    "    for i in range(argc) :\n",
    "        print(argv[i])\n",
    "        "
   ]
  },
  {
   "cell_type": "code",
   "execution_count": 35,
   "id": "cc2ef5b1",
   "metadata": {},
   "outputs": [
    {
     "ename": "TypeError",
     "evalue": "print_args2() missing 1 required keyword-only argument: 'argc'",
     "output_type": "error",
     "traceback": [
      "\u001b[1;31m---------------------------------------------------------------------------\u001b[0m",
      "\u001b[1;31mTypeError\u001b[0m                                 Traceback (most recent call last)",
      "\u001b[1;32m~\\AppData\\Local\\Temp\\ipykernel_12260\\525912810.py\u001b[0m in \u001b[0;36m<module>\u001b[1;34m\u001b[0m\n\u001b[1;32m----> 1\u001b[1;33m \u001b[0mprint_args2\u001b[0m\u001b[1;33m(\u001b[0m\u001b[1;34m'홍길동'\u001b[0m\u001b[1;33m,\u001b[0m\u001b[1;34m'이순신'\u001b[0m\u001b[1;33m,\u001b[0m\u001b[1;34m'강감찬'\u001b[0m\u001b[1;33m,\u001b[0m \u001b[1;36m3\u001b[0m\u001b[1;33m)\u001b[0m\u001b[1;33m\u001b[0m\u001b[1;33m\u001b[0m\u001b[0m\n\u001b[0m",
      "\u001b[1;31mTypeError\u001b[0m: print_args2() missing 1 required keyword-only argument: 'argc'"
     ]
    }
   ],
   "source": [
    "print_args2('홍길동','이순신','강감찬', 3)"
   ]
  },
  {
   "cell_type": "code",
   "execution_count": 36,
   "id": "fec42e48",
   "metadata": {},
   "outputs": [
    {
     "name": "stdout",
     "output_type": "stream",
     "text": [
      "홍길동\n",
      "이순신\n",
      "강감찬\n"
     ]
    }
   ],
   "source": [
    "print_args2('홍길동','이순신','강감찬',argc= 3)"
   ]
  },
  {
   "cell_type": "code",
   "execution_count": 37,
   "id": "d3aad8b6",
   "metadata": {},
   "outputs": [
    {
     "name": "stdout",
     "output_type": "stream",
     "text": [
      "15\n"
     ]
    }
   ],
   "source": [
    "# 호출자에게 반환하기\n",
    "\n",
    "def multiply(x1, x2):\n",
    "    return x1 * x2   # 1. 함수 즉시 종료 / 2. 호출자에게 결과 전달.\n",
    "\n",
    "result = multiply(3, 5)\n",
    "print(result)"
   ]
  },
  {
   "cell_type": "code",
   "execution_count": 38,
   "id": "8e4d5d06",
   "metadata": {},
   "outputs": [],
   "source": [
    "# 한 함수안에 여러 개의 return 배치 가능.\n",
    "\n",
    "def my_abs1(arg):\n",
    "    if arg <0 :\n",
    "        return arg*-1\n",
    "    else :\n",
    "        return arg"
   ]
  },
  {
   "cell_type": "code",
   "execution_count": 39,
   "id": "5bcae688",
   "metadata": {},
   "outputs": [
    {
     "name": "stdout",
     "output_type": "stream",
     "text": [
      "50\n"
     ]
    }
   ],
   "source": [
    "result = my_abs1(-50)\n",
    "print(result)"
   ]
  },
  {
   "cell_type": "code",
   "execution_count": 42,
   "id": "310d5140",
   "metadata": {},
   "outputs": [
    {
     "name": "stdout",
     "output_type": "stream",
     "text": [
      "0\n",
      "<class 'int'>\n"
     ]
    }
   ],
   "source": [
    "# 주의\n",
    "\n",
    "def my_abs2(arg):\n",
    "    if arg <0 :\n",
    "        return arg*-1\n",
    "    elif arg>0 :\n",
    "        return arg\n",
    "    else :\n",
    "        return arg\n",
    "    \n",
    "result=my_abs2(0)\n",
    "\n",
    "print(result)\n",
    "print(type(result))   #None 은 값이 담긴적이 없거나 존재하지 않는다는 의미이다."
   ]
  },
  {
   "cell_type": "code",
   "execution_count": 43,
   "id": "8a3c9fae",
   "metadata": {},
   "outputs": [
    {
     "name": "stdout",
     "output_type": "stream",
     "text": [
      "1\n",
      "2\n",
      "3\n",
      "4\n",
      "5\n"
     ]
    }
   ],
   "source": [
    "def print_something(*args) : # 3. 반환 결과가 없고, 함수 중간에 종료 시킬 일도 없을 때 return문 생략 가능\n",
    "    for s in args :\n",
    "        print(s)\n",
    "        \n",
    "print_something(1, 2, 3, 4, 5)"
   ]
  },
  {
   "cell_type": "markdown",
   "id": "42e8f82a",
   "metadata": {},
   "source": [
    "## - 변수의 유효 범위(scope)"
   ]
  },
  {
   "cell_type": "code",
   "execution_count": 45,
   "id": "6aed5583",
   "metadata": {},
   "outputs": [
    {
     "name": "stdout",
     "output_type": "stream",
     "text": [
      "x:1\n",
      "x:0\n"
     ]
    }
   ],
   "source": [
    "def scope_test1():\n",
    "    x = 1    #지역변수, 함수내에서만 사용 가능 / 함수 호출시 메모리 생성\n",
    "    print('x:{0}'.format(x))\n",
    "    \n",
    "x=0          # 함수 밖 변수 선언\n",
    "scope_test1()\n",
    "print('x:{0}'.format(x))"
   ]
  },
  {
   "cell_type": "code",
   "execution_count": 48,
   "id": "b4e0e828",
   "metadata": {},
   "outputs": [
    {
     "name": "stdout",
     "output_type": "stream",
     "text": [
      "x:0\n",
      "x:1\n",
      "x:1\n"
     ]
    }
   ],
   "source": [
    "def scope_test2():\n",
    "    global x    # global 키워드 : 전역변수, 지역변수의 생성을 막는다. 변수의 우선권을 가진다. = java의 static과 유사한 기능\n",
    "    x = 1       # 함수 호출시 메모리 생성\n",
    "    print('x:{0}'.format(x))\n",
    "    \n",
    "x=0             # 함수 밖 변수 선언\n",
    "print('x:{0}'.format(x))\n",
    "\n",
    "scope_test2()\n",
    "print('x:{0}'.format(x))"
   ]
  },
  {
   "cell_type": "code",
   "execution_count": 1,
   "id": "32b1d50e",
   "metadata": {},
   "outputs": [
    {
     "name": "stdout",
     "output_type": "stream",
     "text": [
      "123\n"
     ]
    }
   ],
   "source": [
    "# 함수를 변수에 담아 사용\n",
    "def print_something(x) :\n",
    "    print(x)\n",
    "    \n",
    "print_something(123)"
   ]
  },
  {
   "cell_type": "code",
   "execution_count": 3,
   "id": "853a415f",
   "metadata": {},
   "outputs": [
    {
     "name": "stdout",
     "output_type": "stream",
     "text": [
      "123\n",
      "abc\n"
     ]
    }
   ],
   "source": [
    "p = print_something\n",
    "p(123)\n",
    "p(\"abc\")"
   ]
  },
  {
   "cell_type": "code",
   "execution_count": 5,
   "id": "baed6200",
   "metadata": {},
   "outputs": [
    {
     "name": "stdout",
     "output_type": "stream",
     "text": [
      "3\n",
      "-1\n"
     ]
    }
   ],
   "source": [
    "## 순서열(리스트, 튜플) / 딕셔너리도 변수로 담아보기\n",
    "\n",
    "def plus(x1, x2) :\n",
    "    return x1 + x2\n",
    "\n",
    "def minus(x1, x2) :\n",
    "    return x1 - x2\n",
    "\n",
    "flist = [plus, minus]\n",
    "print(flist[0](1, 2)) # plus(1, 2) 와 동일\n",
    "print(flist[1](1, 2)) #munus(1, 2) 와 동일"
   ]
  },
  {
   "cell_type": "code",
   "execution_count": 7,
   "id": "a95a8774",
   "metadata": {},
   "outputs": [
    {
     "name": "stdout",
     "output_type": "stream",
     "text": [
      "안녕하세요.\n",
      "Hello\n"
     ]
    }
   ],
   "source": [
    "# 함수의 매개변수에 함수 전달 기능\n",
    "\n",
    "def hello_korea() :\n",
    "    print(\"안녕하세요.\")\n",
    "    \n",
    "def hello_english() :\n",
    "    print(\"Hello\")\n",
    "    \n",
    "def greet(hello) :\n",
    "    hello()\n",
    "    \n",
    "greet(hello_korea)  # hello_korea()\n",
    "\n",
    "greet(hello_english) # hello_english()"
   ]
  },
  {
   "cell_type": "code",
   "execution_count": 8,
   "id": "55f4a549",
   "metadata": {},
   "outputs": [
    {
     "name": "stdout",
     "output_type": "stream",
     "text": [
      "안녕하세요.\n",
      "Hello\n"
     ]
    }
   ],
   "source": [
    "# 함수 내에서 함수를 반환\n",
    "\n",
    "def get_greeting(where) :\n",
    "    if where == 'k' :\n",
    "        return hello_korea\n",
    "    \n",
    "    else :\n",
    "        return hello_english\n",
    "\n",
    "hello = get_greeting('k')\n",
    "hello()\n",
    "\n",
    "hello = get_greeting('e')\n",
    "hello()"
   ]
  },
  {
   "cell_type": "markdown",
   "id": "8e79aeef",
   "metadata": {},
   "source": [
    "## - 중첩 함수"
   ]
  },
  {
   "cell_type": "code",
   "execution_count": 9,
   "id": "aedc63da",
   "metadata": {},
   "outputs": [
    {
     "name": "stdout",
     "output_type": "stream",
     "text": [
      "0.6\n"
     ]
    }
   ],
   "source": [
    "import math\n",
    "\n",
    "def stddev(*args) :          # 표준편차 구하는 함수\n",
    "    def mean() :             # 중첩 함수\n",
    "        return sum(args) / len(args)\n",
    "    \n",
    "    def variance(m) :        # 중첩 함수\n",
    "        \n",
    "        total = 0\n",
    "        \n",
    "        for arg in args :\n",
    "            total += (arg - m)**2\n",
    "            \n",
    "        return total / (len(args) - 1)\n",
    "    \n",
    "    v = variance(mean())\n",
    "    \n",
    "    return math.sqrt(v)  # sqrt 루트를 씌워주는 math가 내장하고 있는 메서드\n",
    "\n",
    "print(stddev(2.3, 1.7, 1.4, 0.7, 1.9))\n"
   ]
  },
  {
   "cell_type": "code",
   "execution_count": 10,
   "id": "a4f5473e",
   "metadata": {},
   "outputs": [
    {
     "ename": "NameError",
     "evalue": "name 'mean' is not defined",
     "output_type": "error",
     "traceback": [
      "\u001b[1;31m---------------------------------------------------------------------------\u001b[0m",
      "\u001b[1;31mNameError\u001b[0m                                 Traceback (most recent call last)",
      "\u001b[1;32m~\\AppData\\Local\\Temp\\ipykernel_10396\\4217565016.py\u001b[0m in \u001b[0;36m<module>\u001b[1;34m\u001b[0m\n\u001b[1;32m----> 1\u001b[1;33m \u001b[0mprint\u001b[0m\u001b[1;33m(\u001b[0m\u001b[0mmean\u001b[0m\u001b[1;33m(\u001b[0m\u001b[1;33m)\u001b[0m\u001b[1;33m)\u001b[0m  \u001b[1;31m# error - 중첩함수는 외부에서 호출 불가능.\u001b[0m\u001b[1;33m\u001b[0m\u001b[1;33m\u001b[0m\u001b[0m\n\u001b[0m",
      "\u001b[1;31mNameError\u001b[0m: name 'mean' is not defined"
     ]
    }
   ],
   "source": [
    "print(mean())  # error - 중첩함수는 외부에서 호출 불가능."
   ]
  },
  {
   "cell_type": "code",
   "execution_count": 12,
   "id": "4a5cecea",
   "metadata": {},
   "outputs": [],
   "source": [
    "# pass : 기능의 구현을 잠시 미루자.\n",
    "\n",
    "\n",
    "def empty_function() :              # R의 경우 function empty_function() {}\n",
    "    pass\n",
    "\n",
    "empty_function()    "
   ]
  },
  {
   "cell_type": "code",
   "execution_count": 13,
   "id": "95cb108e",
   "metadata": {},
   "outputs": [],
   "source": [
    "# cf)\n",
    "\n",
    "class empty_class : \n",
    "    pass"
   ]
  },
  {
   "cell_type": "code",
   "execution_count": null,
   "id": "bec0d690",
   "metadata": {},
   "outputs": [],
   "source": []
  }
 ],
 "metadata": {
  "kernelspec": {
   "display_name": "Python 3 (ipykernel)",
   "language": "python",
   "name": "python3"
  },
  "language_info": {
   "codemirror_mode": {
    "name": "ipython",
    "version": 3
   },
   "file_extension": ".py",
   "mimetype": "text/x-python",
   "name": "python",
   "nbconvert_exporter": "python",
   "pygments_lexer": "ipython3",
   "version": "3.7.13"
  }
 },
 "nbformat": 4,
 "nbformat_minor": 5
}
