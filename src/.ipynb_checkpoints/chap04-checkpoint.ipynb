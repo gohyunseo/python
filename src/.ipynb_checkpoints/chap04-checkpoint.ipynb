{
 "cells": [
  {
   "cell_type": "markdown",
   "id": "93c3ac43",
   "metadata": {},
   "source": [
    "# 조건문"
   ]
  },
  {
   "cell_type": "code",
   "execution_count": 3,
   "id": "49ad7f5e",
   "metadata": {},
   "outputs": [
    {
     "name": "stdout",
     "output_type": "stream",
     "text": [
      "수를 입력하세요 : \n",
      "0\n",
      "0은 나눗셈에 이용할 수 없습니다.\n"
     ]
    },
    {
     "ename": "SystemExit",
     "evalue": "0",
     "output_type": "error",
     "traceback": [
      "An exception has occurred, use %tb to see the full traceback.\n",
      "\u001b[1;31mSystemExit\u001b[0m\u001b[1;31m:\u001b[0m 0\n"
     ]
    }
   ],
   "source": [
    "import sys\n",
    "\n",
    "print('수를 입력하세요 : ')\n",
    "\n",
    "num = int(input())\n",
    "\n",
    "if num == 0 : \n",
    "    print('0은 나눗셈에 이용할 수 없습니다.')\n",
    "    sys.exit(0)\n",
    "\n",
    "print('3 /', num, '=', 3/num)"
   ]
  },
  {
   "cell_type": "code",
   "execution_count": 5,
   "id": "53fb531e",
   "metadata": {},
   "outputs": [
    {
     "name": "stdout",
     "output_type": "stream",
     "text": [
      "수를 입력하세요 : \n",
      "8\n",
      "3 / 8 = 0.375\n",
      "프로그램 종료.\n"
     ]
    }
   ],
   "source": [
    "print('수를 입력하세요 : ')\n",
    "\n",
    "num = int(input())\n",
    "\n",
    "if num == 0 : \n",
    "    print('0은 나눗셈에 이용할 수 없습니다.')\n",
    "else : \n",
    "    print('3 /', num, '=', 3/num)\n",
    "\n",
    "print('프로그램 종료.')"
   ]
  },
  {
   "cell_type": "code",
   "execution_count": 6,
   "id": "99ae4261",
   "metadata": {},
   "outputs": [
    {
     "name": "stdout",
     "output_type": "stream",
     "text": [
      "요일(월~일)을 입력하세요 : \n",
      "금\n",
      "Friday\n"
     ]
    }
   ],
   "source": [
    "print('요일(월~일)을 입력하세요 : ')\n",
    "\n",
    "dow = input()\n",
    "\n",
    "if dow == '월' :\n",
    "    print('Monday')\n",
    "elif dow == '화' :\n",
    "    print('Tuesday')\n",
    "elif dow == '수' :\n",
    "    print('Wednesday')\n",
    "elif dow == '목' :\n",
    "    print('Thursday')\n",
    "elif dow == '금' :\n",
    "    print('Friday')\n",
    "elif dow == '토' :\n",
    "    print('Saturday')\n",
    "elif dow == '일' :\n",
    "    print('Sunday')\n",
    "else :\n",
    "    print('잘못 입력된 요일입니다.')\n",
    "    "
   ]
  },
  {
   "cell_type": "code",
   "execution_count": 7,
   "id": "e1a48735",
   "metadata": {},
   "outputs": [
    {
     "name": "stdout",
     "output_type": "stream",
     "text": [
      "수를 입력하세요 : \n",
      "25\n",
      "10보다 큰 홀수\n"
     ]
    }
   ],
   "source": [
    "print('수를 입력하세요 : ')\n",
    "\n",
    "num = int(input())\n",
    "\n",
    "if num > 10 :\n",
    "    if num % 2 == 0 :\n",
    "        print('10보다 큰 짝수')\n",
    "    else : \n",
    "        print('10보다 큰 홀수')\n",
    "else : \n",
    "    if num % 2 == 0 :\n",
    "        print('10이하의 짝수')\n",
    "    else : \n",
    "        print('10이하의 홀수')\n",
    "        "
   ]
  },
  {
   "cell_type": "code",
   "execution_count": 9,
   "id": "094becf6",
   "metadata": {},
   "outputs": [
    {
     "name": "stdout",
     "output_type": "stream",
     "text": [
      "수를 입력하세요 : \n",
      "7\n",
      "10이하의 홀수\n"
     ]
    }
   ],
   "source": [
    "print('수를 입력하세요 : ')\n",
    "\n",
    "num = int(input())\n",
    "\n",
    "if num > 10 and num % 2 : \n",
    "    print('10보다 큰 짝수')\n",
    "elif num > 10 and num % 2 != 0 : \n",
    "    print('10보다 큰 홀수')\n",
    "# elif num % 2 == 0 :  # 위의 조건을 만족하지않으면 10이하의 숫자이므로 num <= 10 를 생략 가능하다.  \n",
    "elif num <= 10 and num % 2 == 0 : \n",
    "    print('10이하의 짝수')\n",
    "else :\n",
    "    print('10이하의 홀수')"
   ]
  },
  {
   "cell_type": "markdown",
   "id": "57ce455f",
   "metadata": {},
   "source": [
    "# 반복문(while, for)"
   ]
  },
  {
   "cell_type": "markdown",
   "id": "b45a0e81",
   "metadata": {},
   "source": [
    "### - while"
   ]
  },
  {
   "cell_type": "code",
   "execution_count": 17,
   "id": "dcdf9468",
   "metadata": {},
   "outputs": [
    {
     "name": "stdout",
     "output_type": "stream",
     "text": [
      "몇 번 반복할까요? : \n",
      "3\n",
      "1번 반복 3번 까지\n",
      "2번 반복 3번 까지\n",
      "3번 반복 3번 까지\n",
      "반복이 종료.\n"
     ]
    }
   ],
   "source": [
    "print('몇 번 반복할까요? : ')\n",
    "\n",
    "limit = int(input())\n",
    "\n",
    "count = 0\n",
    "\n",
    "while count < limit : \n",
    "    count+=1  #count = count + 1  #count++은 지원하지 않음\n",
    "    print('{0}번 반복 {1}번 까지'.format(count, limit)) # 0과 1은 인덱스 값 format(인덱스0, 인덱스1)\n",
    "    \n",
    "print('반복이 종료.')"
   ]
  },
  {
   "cell_type": "code",
   "execution_count": 5,
   "id": "6418e3d1",
   "metadata": {
    "scrolled": true
   },
   "outputs": [
    {
     "name": "stdout",
     "output_type": "stream",
     "text": [
      "반복을 계속할까요 ? [예/아니요] : \n",
      "네니요\n",
      "정상적인 답변이 아닙니다.\n",
      "반복을 계속할까요 ? [예/아니요] : \n",
      "예\n",
      "반복을 계속합니다.\n",
      "반복을 계속할까요 ? [예/아니요] : \n",
      "예\n",
      "반복을 계속합니다.\n",
      "반복을 계속할까요 ? [예/아니요] : \n",
      "아니요\n",
      "반복 종료.\n"
     ]
    }
   ],
   "source": [
    "while True : \n",
    "    print('반복을 계속할까요 ? [예/아니요] : ')\n",
    "    answer = input()\n",
    "    \n",
    "    if answer == \"예\" :\n",
    "        print('반복을 계속합니다.')\n",
    "    elif answer == \"아니요\" :\n",
    "        print('반복 종료.')\n",
    "        break\n",
    "    else :\n",
    "        print('정상적인 답변이 아닙니다.')"
   ]
  },
  {
   "cell_type": "markdown",
   "id": "cf89a1f5",
   "metadata": {},
   "source": [
    "### - for"
   ]
  },
  {
   "cell_type": "code",
   "execution_count": 8,
   "id": "ff77947e",
   "metadata": {},
   "outputs": [
    {
     "name": "stdout",
     "output_type": "stream",
     "text": [
      "10\n",
      "20\n",
      "30\n"
     ]
    }
   ],
   "source": [
    "#for(int i =0; i < 10 ; i++){   } 자바의 for문\n",
    "#for(String product : products){   } 자바의 for each문\n",
    "\n",
    "for i in [10,20,30] : \n",
    "    print(i)"
   ]
  },
  {
   "cell_type": "code",
   "execution_count": 9,
   "id": "e311b4c3",
   "metadata": {},
   "outputs": [
    {
     "name": "stdout",
     "output_type": "stream",
     "text": [
      "더좋은\n",
      "컴퓨터\n",
      "아카데미\n"
     ]
    }
   ],
   "source": [
    "for s in ['더좋은', '컴퓨터', '아카데미'] :\n",
    "    print(s)"
   ]
  },
  {
   "cell_type": "code",
   "execution_count": 10,
   "id": "e1d30127",
   "metadata": {},
   "outputs": [
    {
     "name": "stdout",
     "output_type": "stream",
     "text": [
      "더좋은\n",
      "컴퓨터\n",
      "3.14\n"
     ]
    }
   ],
   "source": [
    "for m in ['더좋은', '컴퓨터', 3.14] :\n",
    "    print(m)"
   ]
  },
  {
   "cell_type": "code",
   "execution_count": 11,
   "id": "22affdf8",
   "metadata": {},
   "outputs": [
    {
     "name": "stdout",
     "output_type": "stream",
     "text": [
      "더좋은\n",
      "컴퓨터\n",
      "아카데미\n"
     ]
    }
   ],
   "source": [
    "for s in '더좋은', '컴퓨터', '아카데미' :\n",
    "    print(s)"
   ]
  },
  {
   "cell_type": "code",
   "execution_count": 13,
   "id": "a773ab4e",
   "metadata": {},
   "outputs": [
    {
     "name": "stdout",
     "output_type": "stream",
     "text": [
      "더\n",
      "좋\n",
      "은\n",
      " \n",
      "컴\n",
      "퓨\n",
      "터\n",
      " \n",
      "아\n",
      "카\n",
      "데\n",
      "미\n"
     ]
    }
   ],
   "source": [
    "for s in '더좋은 컴퓨터 아카데미' :\n",
    "     print(s)"
   ]
  },
  {
   "cell_type": "code",
   "execution_count": 20,
   "id": "11574586",
   "metadata": {},
   "outputs": [
    {
     "name": "stdout",
     "output_type": "stream",
     "text": [
      "0\n",
      "1\n",
      "2\n",
      "3\n",
      "4\n"
     ]
    }
   ],
   "source": [
    "#for i in [1, 2, 3, 4, 5] :\n",
    "#    print(i)\n",
    "\n",
    "for i in range(0, 5) :   # for i in range(0,5,1)과 동일\n",
    "    print(i)"
   ]
  },
  {
   "cell_type": "code",
   "execution_count": 26,
   "id": "e7176fed",
   "metadata": {},
   "outputs": [
    {
     "name": "stdout",
     "output_type": "stream",
     "text": [
      "0\n",
      "2\n",
      "4\n",
      "6\n",
      "8\n"
     ]
    }
   ],
   "source": [
    "for i in range(0, 10, 2) :\n",
    "    print(i)"
   ]
  },
  {
   "cell_type": "code",
   "execution_count": 27,
   "id": "932cebf5",
   "metadata": {},
   "outputs": [
    {
     "name": "stdout",
     "output_type": "stream",
     "text": [
      "0\n",
      "1\n",
      "2\n",
      "3\n",
      "4\n"
     ]
    }
   ],
   "source": [
    "for i in range(5) :\n",
    "    print(i)"
   ]
  },
  {
   "cell_type": "code",
   "execution_count": 29,
   "id": "544c8c61",
   "metadata": {},
   "outputs": [
    {
     "ename": "TypeError",
     "evalue": "'int' object is not iterable",
     "output_type": "error",
     "traceback": [
      "\u001b[1;31m---------------------------------------------------------------------------\u001b[0m",
      "\u001b[1;31mTypeError\u001b[0m                                 Traceback (most recent call last)",
      "\u001b[1;32m~\\AppData\\Local\\Temp\\ipykernel_11096\\2812504708.py\u001b[0m in \u001b[0;36m<module>\u001b[1;34m\u001b[0m\n\u001b[0;32m      1\u001b[0m \u001b[1;31m# 주의\u001b[0m\u001b[1;33m\u001b[0m\u001b[1;33m\u001b[0m\u001b[1;33m\u001b[0m\u001b[0m\n\u001b[1;32m----> 2\u001b[1;33m \u001b[1;32mfor\u001b[0m \u001b[0mi\u001b[0m \u001b[1;32min\u001b[0m \u001b[1;36m5\u001b[0m \u001b[1;33m:\u001b[0m\u001b[1;33m\u001b[0m\u001b[1;33m\u001b[0m\u001b[0m\n\u001b[0m\u001b[0;32m      3\u001b[0m     \u001b[0mprint\u001b[0m\u001b[1;33m(\u001b[0m\u001b[0mi\u001b[0m\u001b[1;33m)\u001b[0m\u001b[1;33m\u001b[0m\u001b[1;33m\u001b[0m\u001b[0m\n",
      "\u001b[1;31mTypeError\u001b[0m: 'int' object is not iterable"
     ]
    }
   ],
   "source": [
    "# 주의\n",
    "for i in 5 :\n",
    "    print(i)"
   ]
  },
  {
   "cell_type": "code",
   "execution_count": 37,
   "id": "f58cda20",
   "metadata": {},
   "outputs": [
    {
     "name": "stdout",
     "output_type": "stream",
     "text": [
      "*\n",
      "**\n",
      "***\n",
      "****\n",
      "*****\n"
     ]
    }
   ],
   "source": [
    "for i in range(1,6) :\n",
    "    for j in range(i) :\n",
    "        print(\"*\", end=\"\")  #end의 default는 \\n 이다.\n",
    "    \n",
    "    print()"
   ]
  },
  {
   "cell_type": "code",
   "execution_count": 39,
   "id": "6c3cf8b7",
   "metadata": {},
   "outputs": [
    {
     "name": "stdout",
     "output_type": "stream",
     "text": [
      "애플:www.apple.com\n",
      "파이썬:www.python.org\n",
      "네이버:www.naver.com\n"
     ]
    }
   ],
   "source": [
    "dic = {'애플':'www.apple.com', '파이썬':'www.python.org', '네이버':'www.naver.com'}\n",
    "\n",
    "for k,v in dic.items() :\n",
    "    print(\"{0}:{1}\".format(k,v))"
   ]
  },
  {
   "cell_type": "code",
   "execution_count": 41,
   "id": "c23264dc",
   "metadata": {},
   "outputs": [
    {
     "name": "stdout",
     "output_type": "stream",
     "text": [
      "0\n",
      "2\n",
      "4\n",
      "6\n",
      "8\n"
     ]
    }
   ],
   "source": [
    "#continue\n",
    "for i in range(10) :    #홀수는 제외하고 출력\n",
    "    if i % 2 == 1 :\n",
    "        continue        # continue를 이용하여 진행중인 상태를 중단하고 다음 반복을 진행한다.\n",
    "        \n",
    "    print(i)"
   ]
  },
  {
   "cell_type": "markdown",
   "id": "006d37af",
   "metadata": {},
   "source": [
    "## 간단하게 반복하는 한 줄 for문(Comprehension)"
   ]
  },
  {
   "cell_type": "code",
   "execution_count": 48,
   "id": "cfd6fc72",
   "metadata": {},
   "outputs": [
    {
     "name": "stdout",
     "output_type": "stream",
     "text": [
      "[1, 4, 9, 16, 25]\n"
     ]
    }
   ],
   "source": [
    "numbers = [1, 2, 3, 4, 5]\n",
    "square = []\n",
    "\n",
    "for i in numbers : \n",
    "    square.append(i**2)\n",
    "    \n",
    "print(square)"
   ]
  },
  {
   "cell_type": "code",
   "execution_count": 49,
   "id": "d4e52dd4",
   "metadata": {},
   "outputs": [
    {
     "name": "stdout",
     "output_type": "stream",
     "text": [
      "[1, 4, 9, 16, 25]\n"
     ]
    }
   ],
   "source": [
    "numbers = [1, 2, 3, 4, 5]\n",
    "square = [i**2 for i in numbers]\n",
    "\n",
    "print(square)"
   ]
  },
  {
   "cell_type": "code",
   "execution_count": 50,
   "id": "db6f04da",
   "metadata": {},
   "outputs": [
    {
     "name": "stdout",
     "output_type": "stream",
     "text": [
      "[9, 16, 25]\n"
     ]
    }
   ],
   "source": [
    "numbers = [1, 2, 3, 4, 5]\n",
    "square = []\n",
    "\n",
    "for i in numbers : \n",
    "    if i >=3:\n",
    "        square.append(i**2)\n",
    "        \n",
    "print(square)"
   ]
  },
  {
   "cell_type": "code",
   "execution_count": 55,
   "id": "280d96a0",
   "metadata": {},
   "outputs": [
    {
     "name": "stdout",
     "output_type": "stream",
     "text": [
      "[9, 16, 25]\n"
     ]
    }
   ],
   "source": [
    "numbers = [1, 2, 3, 4, 5]\n",
    "square = [i**2  for i in numbers if i>=3]\n",
    "\n",
    "print(square)"
   ]
  },
  {
   "cell_type": "code",
   "execution_count": null,
   "id": "5b667579",
   "metadata": {},
   "outputs": [],
   "source": []
  }
 ],
 "metadata": {
  "kernelspec": {
   "display_name": "Python 3 (ipykernel)",
   "language": "python",
   "name": "python3"
  },
  "language_info": {
   "codemirror_mode": {
    "name": "ipython",
    "version": 3
   },
   "file_extension": ".py",
   "mimetype": "text/x-python",
   "name": "python",
   "nbconvert_exporter": "python",
   "pygments_lexer": "ipython3",
   "version": "3.7.13"
  }
 },
 "nbformat": 4,
 "nbformat_minor": 5
}
